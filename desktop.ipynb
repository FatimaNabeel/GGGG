{
 "cells": [
  {
   "cell_type": "markdown",
   "metadata": {},
   "source": [
    "In this code, we define a sample dataset called data that consists of a list of texts. We then define a function called search that takes a search query and the dataset as input, and returns a list of indices of the texts that contain the query.\n",
    "\n",
    "We then define a search query called query and call the search function with the query and dataset as input. The function returns a list of indices of the texts that contain the query.\n",
    "\n",
    "Finally, we print the results of the search. If no results are found, we print a message saying so. Otherwise, we print the texts that contain the query."
   ]
  },
  {
   "cell_type": "code",
   "execution_count": 2,
   "metadata": {},
   "outputs": [
    {
     "name": "stdout",
     "output_type": "stream",
     "text": [
      "Results:\n",
      "- The quick brown fox jumps over the lazy dog.\n",
      "- The brown fox is quick.\n"
     ]
    }
   ],
   "source": [
    "# Sample data\n",
    "data = [\n",
    "    \"The quick brown fox jumps over the lazy dog.\",\n",
    "    \"The brown fox is quick.\",\n",
    "    \"The lazy dog is brown.\",\n",
    "    \"The red fox is not quick.\",\n",
    "    \"The lazy cat is not brown.\"\n",
    "]\n",
    "\n",
    "# Function to perform information retrieval\n",
    "def search(query, data):\n",
    "    results = []\n",
    "    for i, text in enumerate(data):\n",
    "        if query.lower() in text.lower():\n",
    "            results.append(i)\n",
    "    return results\n",
    "\n",
    "# Search query\n",
    "query = \"brown fox\"\n",
    "\n",
    "# Perform information retrieval\n",
    "results = search(query, data)\n",
    "\n",
    "# Print results\n",
    "if len(results) == 0:\n",
    "    print(\"No results found.\")\n",
    "else:\n",
    "    print(\"Results:\")\n",
    "    for result in results:\n",
    "        print(\"- \" + data[result])\n"
   ]
  },
  {
   "cell_type": "code",
   "execution_count": 4,
   "metadata": {},
   "outputs": [
    {
     "data": {
      "text/plain": [
       "'brown fox'"
      ]
     },
     "execution_count": 4,
     "metadata": {},
     "output_type": "execute_result"
    }
   ],
   "source": [
    "query"
   ]
  },
  {
   "cell_type": "code",
   "execution_count": 5,
   "metadata": {},
   "outputs": [
    {
     "data": {
      "text/plain": [
       "['The quick brown fox jumps over the lazy dog.',\n",
       " 'The brown fox is quick.',\n",
       " 'The lazy dog is brown.',\n",
       " 'The red fox is not quick.',\n",
       " 'The lazy cat is not brown.']"
      ]
     },
     "execution_count": 5,
     "metadata": {},
     "output_type": "execute_result"
    }
   ],
   "source": [
    "data"
   ]
  },
  {
   "cell_type": "code",
   "execution_count": null,
   "metadata": {},
   "outputs": [],
   "source": []
  }
 ],
 "metadata": {
  "kernelspec": {
   "display_name": "Python 3",
   "language": "python",
   "name": "python3"
  },
  "language_info": {
   "codemirror_mode": {
    "name": "ipython",
    "version": 3
   },
   "file_extension": ".py",
   "mimetype": "text/x-python",
   "name": "python",
   "nbconvert_exporter": "python",
   "pygments_lexer": "ipython3",
   "version": "3.8.5"
  }
 },
 "nbformat": 4,
 "nbformat_minor": 4
}
